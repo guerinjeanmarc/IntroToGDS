{
  "cells": [
    {
      "cell_type": "markdown",
      "metadata": {
        "id": "view-in-github",
        "colab_type": "text"
      },
      "source": [
        "<a href=\"https://colab.research.google.com/github/guerinjeanmarc/IntroToGDS/blob/main/Paysim_Exercise.ipynb\" target=\"_parent\"><img src=\"https://colab.research.google.com/assets/colab-badge.svg\" alt=\"Open In Colab\"/></a>"
      ]
    },
    {
      "cell_type": "markdown",
      "metadata": {
        "id": "8xUwMebkaCuq"
      },
      "source": [
        "# Fraud Detection and Inverstigation Using Graph Data Science Library\n",
        "\n",
        "Example GDS workflow to demonstrate fraud detection and investigation using Neo4j Graph Data Science. This browser guide contains snippets of cypher code and a brief explanation in each slide to help with the demo.\n",
        "\n",
        "We will use the GDS Library to get you started with few scenarios in first party and synthetic identity fraud detection and investigation."
      ]
    },
    {
      "cell_type": "markdown",
      "metadata": {
        "id": "rziCSMnPaCus"
      },
      "source": [
        "## Notebook Setup\n",
        "We need a dedicated environment where Neo4j and GDS are available, in our case we will use the Graph Data Science sandbox.\n",
        "\n",
        "- Go to https://sandbox.neo4j.com\n",
        "- login and click on New Project\n",
        "- select **Fraud Detection**, then Create"
      ]
    },
    {
      "cell_type": "code",
      "execution_count": null,
      "metadata": {
        "id": "i2yklGAuaCus"
      },
      "outputs": [],
      "source": [
        "#install dependencies \n",
        "!pip install graphdatascience"
      ]
    },
    {
      "cell_type": "markdown",
      "metadata": {
        "id": "k1yeWZ3iaCus"
      },
      "source": [
        "### Neo4j Settings\n"
      ]
    },
    {
      "cell_type": "code",
      "execution_count": null,
      "metadata": {
        "id": "_mInu6Z5aCus"
      },
      "outputs": [],
      "source": [
        "# Replace XXX with your connection details\n",
        "BoltURL = 'bolt://XXX:7687'\n",
        "Username = 'neo4j'\n",
        "password = 'XXX'"
      ]
    },
    {
      "cell_type": "markdown",
      "metadata": {
        "id": "H77IV7hSaCut"
      },
      "source": [
        "### Connect to Graph Data Science"
      ]
    },
    {
      "cell_type": "code",
      "execution_count": null,
      "metadata": {
        "id": "OpL_wVrGaCut"
      },
      "outputs": [],
      "source": [
        "from graphdatascience import GraphDataScience\n",
        "\n",
        "# Use Neo4j URI and credentials according to your setup\n",
        "gds = GraphDataScience(BoltURL, auth=(Username, password), aura_ds=False)\n",
        "\n",
        "# Check connection\n",
        "print(gds.version())"
      ]
    },
    {
      "cell_type": "markdown",
      "metadata": {
        "id": "9lNGDbMMaCut"
      },
      "source": [
        "\n",
        "\n",
        "### Problem Definitition\n",
        "#### What is Fraud?\n",
        "Fraud occurs when an individual or group of individuals, or a business entity intentionally deceives another individual or business entity with misrepresentation of identity, products, services, or financial transactions and/or false promises with no intention of fulfilling them.\n",
        "\n",
        "#### Fraud Categories\n",
        "- First-party Fraud\n",
        "  - An individual, or group of individuals, misrepresent their identity or give false information when applying for a product or services to receive more favourable rates or when have no intention of repayment.\n",
        "- Second-party Fraud\n",
        "  - An individual knowingly gives their identity or personal information to another individual to commit fraud or someone is perpetrating fraud in his behalf.\n",
        "- Third-party Fraud\n",
        "  - An individual, or a group of individuals, create or use another person’s identity, or personal details, to open or takeover an account.\n",
        "\n",
        "\n",
        "### Exercises\n",
        "We will use Neo4j GDS library to detect and label two types of fraudsters\n",
        "\n",
        "1. First party fraudsters (Module #1)\n",
        "2. Money Mules (Module #2)\n",
        "\n",
        "### Preliminary Data Analysis\n",
        "\n",
        "We will use Paysim dataset for the hands-on exercises. Paysim is a synthetic dataset that mimics real world mobile money transfer network.\n",
        "\n",
        "Let’s explore the dataset.\n",
        "\n",
        "1. Database Schema and Stats\n",
        "2. Nodes and Relationships\n",
        "3. Transaction Types"
      ]
    },
    {
      "cell_type": "markdown",
      "metadata": {
        "id": "Z2M0EyDoaCuu"
      },
      "source": [
        "#### Database Schema and Stats\n",
        "\n",
        "In Neo4j browser, let's look at the schema:\n",
        "\n",
        "```Cypher\n",
        "CALL db.schema.visualization()\n",
        "```\n",
        "db.schema.visualization shows all node labels. We can select only the labels we are interrested in with apoc.meta.subGraph:\n",
        "```Cypher\n",
        "CALL apoc.meta.subGraph({labels:['Client','Email','SSN','Phone','Transaction','Bank','Merchant']})\n",
        "```"
      ]
    },
    {
      "cell_type": "markdown",
      "source": [
        "We can explore the graph in Neo4j browser by writing cypher queries that:\n",
        "- Show some (:Client) nodes\n",
        "- Return the number of (:Client) nodes\n",
        "- Return the number of (:SSN) nodes\n",
        "- Show some relationships between (:Client) and (:SSN)\n",
        "- Return the number of relationships between (:Client) and (:SSN)\n",
        "- How many Clients does not have SSN?\n",
        "- How many Distinct SSN are shared between 2 Client?\n"
      ],
      "metadata": {
        "id": "mqLLrSWZHaSw"
      }
    },
    {
      "cell_type": "code",
      "execution_count": null,
      "metadata": {
        "id": "mF-wjHOcaCuu"
      },
      "outputs": [],
      "source": [
        "# total node counts\n",
        "gds.run_cypher('''\n",
        "    CALL apoc.meta.stats()\n",
        "    YIELD labels\n",
        "    UNWIND keys(labels) AS nodeLabel\n",
        "    RETURN nodeLabel, labels[nodeLabel] AS nodeCount\n",
        "''')"
      ]
    },
    {
      "cell_type": "code",
      "execution_count": null,
      "metadata": {
        "id": "4hsB3K-saCuu"
      },
      "outputs": [],
      "source": [
        "# total relationship counts\n",
        "gds.run_cypher('''\n",
        "    CALL apoc.meta.stats()\n",
        "    YIELD relTypesCount\n",
        "    UNWIND keys(relTypesCount) AS relationshipType\n",
        "    RETURN relationshipType, relTypesCount[relationshipType] AS relationshipCount\n",
        "''')"
      ]
    },
    {
      "cell_type": "markdown",
      "metadata": {
        "id": "AthR47ssaCuu"
      },
      "source": [
        "## Module #1: First-party Fraud\n",
        "Synthetic identity fraud and first party fraud can be identified by performing entity link analysis to detect identities linked to other identities via shared PII.\n",
        "\n",
        "There are three types of personally identifiable information (PII) in this dataset - SSN, Email and Phone Number\n",
        "\n",
        "Our hypothesis is that clients who share identifiers are suspicious and have a higher potential to commit fraud. However, all shared identifier links are not suspicious, for example, two people sharing an email address. Hence, we compute a fraud score based on shared PII relationships and label the top X percentile clients as fraudsters.\n",
        "\n",
        "We will first identify clients that share identifiers and create a new relationship between clients that share identifiers"
      ]
    },
    {
      "cell_type": "markdown",
      "metadata": {
        "id": "CtPeyGu3aCuu"
      },
      "source": [
        "### Identify clients sharing PII\n"
      ]
    },
    {
      "cell_type": "code",
      "execution_count": null,
      "metadata": {
        "id": "pBlJKDskaCuv"
      },
      "outputs": [],
      "source": [
        "gds.run_cypher('''\n",
        "    MATCH (c1:Client)-[:HAS_EMAIL|:HAS_PHONE|:HAS_SSN]->(n) <-[:HAS_EMAIL|:HAS_PHONE|:HAS_SSN]-(c2:Client)\n",
        "    WHERE id(c1) < id(c2)\n",
        "    RETURN c1.id, c1.name, c2.id, c2.name, count(*) AS freq\n",
        "    ORDER BY freq DESC;\n",
        "''')"
      ]
    },
    {
      "cell_type": "code",
      "execution_count": null,
      "metadata": {
        "id": "YEGkCL1zaCuv"
      },
      "outputs": [],
      "source": [
        "# Number of unique clients sharing PII\n",
        "gds.run_cypher('''\n",
        "    MATCH (c1:Client)-[:HAS_EMAIL|:HAS_PHONE|:HAS_SSN]->(n) <-[:HAS_EMAIL|:HAS_PHONE|:HAS_SSN]-(c2:Client)\n",
        "    WHERE id(c1) <> id(c2)\n",
        "    RETURN count(DISTINCT c1.id) AS freq;\n",
        "''')"
      ]
    },
    {
      "cell_type": "markdown",
      "metadata": {
        "id": "cQb3bAG-aCuv"
      },
      "source": [
        "### Create a new relationship\n",
        "Create a new relationship to connect clients that share identifiers and add the number of shared identifiers as a property on that relationship\n"
      ]
    },
    {
      "cell_type": "code",
      "execution_count": null,
      "metadata": {
        "id": "phk57nVeaCuv"
      },
      "outputs": [],
      "source": [
        "gds.run_cypher('''\n",
        "    MATCH (c1:Client)-[:HAS_EMAIL|:HAS_PHONE|:HAS_SSN] ->(n)<- [:HAS_EMAIL|:HAS_PHONE|:HAS_SSN]-(c2:Client)\n",
        "    WHERE id(c1) < id(c2)\n",
        "    WITH c1, c2, count(*) as cnt\n",
        "    MERGE (c1) - [:SHARED_IDENTIFIERS {count: cnt}] -> (c2);\n",
        "''')"
      ]
    },
    {
      "cell_type": "markdown",
      "metadata": {
        "id": "APnqE8jZaCuv"
      },
      "source": [
        "Visualize the new relationship created above.\n",
        "\n",
        "```Cypher\n",
        "MATCH p = (:Client) - [s:SHARED_IDENTIFIERS] -> (:Client) WHERE s.count >= 2 RETURN p limit 25\n",
        "```\n"
      ]
    },
    {
      "cell_type": "markdown",
      "metadata": {
        "id": "m_HMWdcYaCuv"
      },
      "source": [
        "### Graph Algorithms\n",
        "\n",
        "Graph algorithms are used to compute metrics for graphs, nodes, or relationships.\n",
        "\n",
        "They can provide insights on relevant entities in the graph (centralities, ranking), or inherent structures like communities (community-detection, graph-partitioning, clustering).\n",
        "\n",
        "The Neo4j Graph Data Science (GDS) library contains many graph algorithms. The algorithms are divided into categories which represent different problem classes. For more information, please click here: Algorithms"
      ]
    },
    {
      "cell_type": "markdown",
      "metadata": {
        "id": "7kGXCVCQaCuv"
      },
      "source": [
        "### Fraud detection workflow in Neo4j GDS\n",
        "\n",
        "We will construct a workflow with graph algorithms to detect fraud rings, score clients based on the number of common connections and rank them to select the top few suspicious clients and label them as fraudsters.\n",
        "\n",
        "Identify clusters of clients sharing PII using a community detection algorithm (Weakly Connected Components)\n",
        "Find similar clients within the clusters using pairwise similarity algorithms (Node Similarity)\n",
        "Calculate and assign fraud score to clients using centrality algorithms (Degree Centrality) and\n",
        "Use computed fraud scores to label clients as potential fraudsters"
      ]
    },
    {
      "cell_type": "markdown",
      "metadata": {
        "id": "myYkr9uCaCuv"
      },
      "source": [
        "### Graph Projection\n",
        "\n",
        "A central concept in the GDS library is the management of in-memory graphs. Graph algorithms run on a graph data model which is a projection of the Neo4j property graph data model. For more information, please click here: Graph Management\n",
        "\n",
        "A projected graph can be stored in the catalog under a user-defined name. Using that name, the graph can be referred to by any algorithm in the library."
      ]
    },
    {
      "cell_type": "code",
      "execution_count": null,
      "metadata": {
        "id": "4I9SRgKaaCuv"
      },
      "outputs": [],
      "source": [
        "# create graph projection\n",
        "g, _ = gds.graph.project(\n",
        "    'wcc', \n",
        "    ['Client'], \n",
        "    {\n",
        "    'SHARED_IDENTIFIERS': {'orientation': 'UNDIRECTED', 'properties':['count']}\n",
        "    }\n",
        ")\n",
        "\n",
        "print(f\"Created {g.name()} with {g.node_count():,} nodes, {g.relationship_count():,} relationships\")"
      ]
    },
    {
      "cell_type": "code",
      "execution_count": null,
      "metadata": {
        "id": "ohStPYjKaCuw"
      },
      "outputs": [],
      "source": [
        "# Show the graph catalog\n",
        "gds.graph.list()"
      ]
    },
    {
      "cell_type": "code",
      "execution_count": null,
      "metadata": {
        "id": "2noYIo-zaCuw"
      },
      "outputs": [],
      "source": [
        "# delete selected graph\n",
        "#g.drop()"
      ]
    },
    {
      "cell_type": "markdown",
      "metadata": {
        "id": "-fW-30kfaCuw"
      },
      "source": [
        "### Memory Estimation and Graph Projection\n",
        "\n",
        "It is a good practice to run memory estimates before creating your graph to make sure you have enough memory to create an in-memory graph. For more information, click here: Memory Estimation\n",
        "\n",
        "Named graphs can be created using either a Native projection or a Cypher projection. Native projections provide the best performance by reading from the Neo4j store files. Using Cypher projections is a more flexible and expressive approach with diminished focus on performance compared to the native projections. For more information, click here: Native and Cypher Projection"
      ]
    },
    {
      "cell_type": "code",
      "execution_count": null,
      "metadata": {
        "id": "rU5bz8IeaCuw"
      },
      "outputs": [],
      "source": [
        "# get memory estimate before creating the graph\n",
        "gds.graph.project.estimate(\n",
        "    ['Client'], \n",
        "    {'SHARED_IDENTIFIERS': {'orientation': 'UNDIRECTED', 'properties':['count']} }\n",
        ")"
      ]
    },
    {
      "cell_type": "markdown",
      "metadata": {
        "id": "JxtjhH4paCuw"
      },
      "source": [
        "### 1. Identify groups of clients sharing PII (Fraud rings)\n",
        "\n",
        "Run Weakly connected components to find clusters of clients sharing PII.\n",
        "\n",
        "Weakly Connected Components is used to find groups of connected nodes, where all nodes in the same set form a connected component. WCC is often used early in an analysis understand the structure of a graph. More informaton here: WCC documentation"
      ]
    },
    {
      "cell_type": "code",
      "execution_count": null,
      "metadata": {
        "id": "G_t3tG3PaCuw"
      },
      "outputs": [],
      "source": [
        "df = gds.wcc.write(g, writeProperty='wccId', consecutiveIds=True)\n",
        "g.drop()\n",
        "df"
      ]
    },
    {
      "cell_type": "code",
      "execution_count": null,
      "metadata": {
        "id": "fajQdeMLaCuw"
      },
      "outputs": [],
      "source": [
        "gds.run_cypher('''\n",
        "    MATCH (c:Client)\n",
        "    RETURN c.id as clientId, c.name as name, c.wccId as wccId\n",
        "    ORDER BY wccId LIMIT 20\n",
        "''')"
      ]
    },
    {
      "cell_type": "code",
      "execution_count": null,
      "metadata": {
        "id": "EaydU-ZgaCuw"
      },
      "outputs": [],
      "source": [
        "# Use cypher to filter clusters based on the size (>1) and then set a property on Client nodes\n",
        "gds.run_cypher('''\n",
        "    MATCH (c:Client)\n",
        "    WITH c.wccId as cluster, collect(c.id) as clients\n",
        "    WITH cluster, clients, size(clients) AS clusterSize \n",
        "    WHERE clusterSize > 1\n",
        "    UNWIND clients as client\n",
        "    MATCH (c:Client) WHERE c.id = client\n",
        "    SET c.firstPartyFraudGroup = cluster\n",
        "    SET c:FirstPartyFraudGroup\n",
        "''')"
      ]
    },
    {
      "cell_type": "markdown",
      "metadata": {
        "id": "zp84dzkqaCuw"
      },
      "source": [
        "### Collect and visualize clusters in Neo4j Browser\n",
        "\n",
        "Visualize clusters with greater than 9 client nodes:\n",
        "\n",
        "```Cypher\n",
        "MATCH (c:Client)\n",
        "WITH c.firstPartyFraudGroup AS fpGroupID, collect(c.id) AS fGroup\n",
        "WITH *, size(fGroup) AS groupSize WHERE groupSize >= 9\n",
        "WITH collect(fpGroupID) AS fraudRings\n",
        "MATCH p=(c:Client)-[:HAS_SSN|HAS_EMAIL|HAS_PHONE]->()\n",
        "WHERE c.firstPartyFraudGroup IN fraudRings\n",
        "RETURN p\n",
        "```"
      ]
    },
    {
      "cell_type": "markdown",
      "metadata": {
        "id": "P-CrZLVTaCuw"
      },
      "source": [
        "### Pairwise similarity scores for additional context\n",
        "\n",
        "We have observed that some identifiers (Email/SSN/Phone Number) are connected to more than one client pointing to reuse of identifiers among clients.\n",
        "\n",
        "We hypothesize that identities that are connected to highly reused identifiers have higher potential to commit fraud.\n",
        "\n",
        "We could compute pairwise similarity scores using Jaccard metric and build additional relationships to connect clients based on shared identifiers and score these pairs based on Jaccard score."
      ]
    },
    {
      "cell_type": "code",
      "execution_count": null,
      "metadata": {
        "id": "N9OBtw7FaCux"
      },
      "outputs": [],
      "source": [
        "# Graph Projection\n",
        "g, _ = gds.graph.project('similarity', ['FirstPartyFraudGroup','Email', 'Phone', 'SSN'], {\n",
        "    'HAS_EMAIL': {'orientation': 'UNDIRECTED'},\n",
        "    'HAS_PHONE': {'orientation': 'UNDIRECTED'},\n",
        "    'HAS_SSN': {'orientation': 'UNDIRECTED'}\n",
        "})"
      ]
    },
    {
      "cell_type": "markdown",
      "metadata": {
        "id": "UsujKbhIaCux"
      },
      "source": [
        "### Write similarity scores to in-memory graph (Mutate)\n",
        "\n",
        "We can mutate in-memory graph by writing outputs from the algorithm as node or relationship properties."
      ]
    },
    {
      "cell_type": "code",
      "execution_count": null,
      "metadata": {
        "id": "x0vlFJxWaCux"
      },
      "outputs": [],
      "source": [
        "df = gds.nodeSimilarity.mutate(g, mutateRelationshipType='SIMILAR_IDS', mutateProperty='score')\n",
        "df"
      ]
    },
    {
      "cell_type": "markdown",
      "metadata": {
        "id": "eXxgc0mxaCux"
      },
      "source": [
        "### 3. Calculate First-party Fraud Score\n",
        "\n",
        "We compute first party fraud score using weighted degree centrality algorithm.\n",
        "\n",
        "In this step, we compute and assign fraud score (firstPartyFraudScore) to clients in the clusters identified in previous steps based on SIMILAR_TO relationships weighted by jaccardScore\n",
        "\n",
        "Weighted degree centrality algorithm add up similarity scores (jaccardScore) on the incoming SIMILAR_TO relationships for a given node in a cluster and assign the sum as the corresponding firstPartyFraudScore. This score represents clients who are similar to many others in the cluster in terms of sharing identifiers. Higher firstPartyFraudScore represents greater potential for committing fraud."
      ]
    },
    {
      "cell_type": "code",
      "execution_count": null,
      "metadata": {
        "id": "9jpIVeOPaCux"
      },
      "outputs": [],
      "source": [
        "#Write back centrality scores as firstPartyFraudScore to the database using write mode.\n",
        "df = gds.degree.write(g, nodeLabels= ['FirstPartyFraudGroup'], relationshipTypes=['SIMILAR_IDS'], \n",
        "                       relationshipWeightProperty='score', writeProperty='firstPartyFraudScore')"
      ]
    },
    {
      "cell_type": "code",
      "execution_count": null,
      "metadata": {
        "id": "kk1XXlq7aCux"
      },
      "outputs": [],
      "source": [
        "# return top10 first party fraudsters\n",
        "gds.run_cypher('''\n",
        "    MATCH (c:Client) \n",
        "    WHERE c.firstPartyFraudScore IS NOT NULL\n",
        "    RETURN c.id AS id, c.name AS name, c.firstPartyFraudScore as score \n",
        "    ORDER BY score DESC LIMIT 10\n",
        "''')"
      ]
    },
    {
      "cell_type": "markdown",
      "metadata": {
        "id": "FxOh73FCaCux"
      },
      "source": [
        "### 4. Attach fraudster labels\n",
        "\n",
        "We find clients with first-party fraud score greater than some threshold (X) and label those top X percentile clients as fraudsters. In this example, using 95th percentile as a threshold, we set a property FirstPartyFraudster on the Client node."
      ]
    },
    {
      "cell_type": "code",
      "execution_count": null,
      "metadata": {
        "id": "ex24Ti0-aCux"
      },
      "outputs": [],
      "source": [
        "gds.run_cypher('''\n",
        "    MATCH(c:Client)\n",
        "    WHERE c.firstPartyFraudScore IS NOT NULL\n",
        "    WITH percentileCont(c.firstPartyFraudScore, 0.95) AS firstPartyFraudThreshold\n",
        "\n",
        "    MATCH(c:Client)\n",
        "    WHERE c.firstPartyFraudScore > firstPartyFraudThreshold\n",
        "    SET c:FirstPartyFraudster\n",
        "''')"
      ]
    },
    {
      "cell_type": "code",
      "execution_count": null,
      "metadata": {
        "id": "OUrxH46FaCux"
      },
      "outputs": [],
      "source": [
        "# count top 95% first party fraudsters\n",
        "gds.run_cypher('''\n",
        "    MATCH (c:FirstPartyFraudster)\n",
        "    RETURN count(c)\n",
        "''')"
      ]
    },
    {
      "cell_type": "markdown",
      "metadata": {
        "id": "AXJgUimsaCux"
      },
      "source": [
        "## End of Module #1: First-party Fraud\n",
        "\n",
        "In this module, we:\n",
        "\n",
        "1. Identified clusters of clients sharing PII\n",
        "2. Computed pairwise similarity based on shared PII\n",
        "3. Computed first-party fraud score and\n",
        "4. Labeled some clients as first-party fraudsters"
      ]
    },
    {
      "cell_type": "markdown",
      "metadata": {
        "id": "k-r73DpyaCux"
      },
      "source": [
        "## Module #2: Second-party Fraud/ Money Mules\n",
        "\n",
        "According to FBI, criminals recruit money mules to help launder proceeds derived from online scams and frauds. Money mules add layers of distance between victims and fraudsters, which makes it harder for law enforcement to accurately trace money trails.\n",
        "\n",
        "In this exercise, we detect money mules in the paysim dataset. Our hypothesis is that clients who transfer money to/from first party fraudsters are suspects for second party fraud.\n",
        "\n",
        "Identify and explore transactions (money transfers) between first-party fraudsters and other clients\n",
        "Detect second-party fraud networks"
      ]
    },
    {
      "cell_type": "markdown",
      "metadata": {
        "id": "txvLGkUKaCux"
      },
      "source": [
        "### Transactions between first-party fraudsters and client\n",
        "\n",
        "The first step is to find out clients who weren’t identified as first party fraudsters but they transact with first party fraudsters\n",
        "\n",
        "```Cypher\n",
        "MATCH p=(:Client:FirstPartyFraudster)-[]-(:Transaction)-[]-(c:Client)\n",
        "WHERE NOT c:FirstPartyFraudster\n",
        "RETURN p;\n",
        "```\n",
        "\n",
        "Also, lets find out what types of transactions do these Clients perform with first party fraudsters"
      ]
    },
    {
      "cell_type": "code",
      "execution_count": null,
      "metadata": {
        "id": "3ToGYdP0aCux"
      },
      "outputs": [],
      "source": [
        "gds.run_cypher('''\n",
        "    MATCH (:Client:FirstPartyFraudster)-[]-(txn:Transaction)-[]-(c:Client)\n",
        "    WHERE NOT c:FirstPartyFraudster\n",
        "    UNWIND labels(txn) AS transactionType\n",
        "    RETURN transactionType, count(*) AS freq;\n",
        "''')"
      ]
    },
    {
      "cell_type": "markdown",
      "metadata": {
        "id": "ujjUsgZRaCuy"
      },
      "source": [
        "### Create new relationships\n",
        "\n",
        "Let’s go ahead and create TRANSFER_TO relationships between clients with firstPartyFraudster tags and other clients. Also add the total amount from all such transactions as a property on TRANSFER_TO relationships.\n",
        "\n",
        "Since the total amount transferred from a fraudster to a client and the total amount transferred in the reverse direction are not the same, we have to create relationships in two separate queries.\n",
        "\n",
        "- TRANSFER_TO relationship from a fraudster to a client (look at the directions in queries)\n",
        "- Add SecondPartyFraudSuspect tag to these clients"
      ]
    },
    {
      "cell_type": "code",
      "execution_count": null,
      "metadata": {
        "id": "Ujv8NhbwaCuy"
      },
      "outputs": [],
      "source": [
        "gds.run_cypher('''\n",
        "    MATCH (c1:FirstPartyFraudster)-[]->(t:Transaction)-[]->(c2:Client)\n",
        "    WHERE NOT c2:FirstPartyFraudster\n",
        "    WITH c1, c2, sum(t.amount) AS totalAmount\n",
        "    SET c2:SecondPartyFraudSuspect\n",
        "    CREATE (c1)-[:TRANSFER_TO {amount:totalAmount}]->(c2);\n",
        "''')"
      ]
    },
    {
      "cell_type": "markdown",
      "metadata": {
        "id": "U6Kk-0zUaCuy"
      },
      "source": [
        "- TRANSFER_TO relationship from a client to a fraudster."
      ]
    },
    {
      "cell_type": "code",
      "execution_count": null,
      "metadata": {
        "id": "T1VPRYFbaCuy"
      },
      "outputs": [],
      "source": [
        "gds.run_cypher('''\n",
        "    MATCH (c1:FirstPartyFraudster)<-[]-(t:Transaction)<-[]-(c2:Client)\n",
        "    WHERE NOT c2:FirstPartyFraudster\n",
        "    WITH c1, c2, sum(t.amount) AS totalAmount\n",
        "    SET c2:SecondPartyFraudSuspect\n",
        "    CREATE (c1)<-[:TRANSFER_TO {amount:totalAmount}]-(c2);\n",
        "''')"
      ]
    },
    {
      "cell_type": "markdown",
      "metadata": {
        "id": "KzJ1P03waCuy"
      },
      "source": [
        "### Visualize relationships in Neo4j Browser\n",
        "\n",
        "Visualize newly created TRANSFER_TO relationships\n",
        "```Cypher\n",
        "MATCH p=(:Client:FirstPartyFraudster)-[:TRANSFER_TO]-(c:Client)\n",
        "WHERE NOT c:FirstPartyFraudster\n",
        "RETURN p;\n",
        "```"
      ]
    },
    {
      "cell_type": "markdown",
      "metadata": {
        "id": "jkiztkgFaCuy"
      },
      "source": [
        "### Second-party Fraud\n",
        "\n",
        "Our objective is to find out clients who may have supported the first party fraudsters and were not identified as potential first party fraudsters.\n",
        "\n",
        "Our hypothesis is that clients who perform transactions of type Transfer where they either send or receive money from first party fraudsters are flagged as suspects for second party fraud.\n",
        "\n",
        "To identify such clients, make use of TRANSFER_TO relationships and use this recipe:\n",
        "\n",
        "Use WCC (community detection) to identify networks of clients who are connected to first party fraudsters\n",
        "Use PageRank (centrality) to score clients based on their influence in terms of the amount of money transferred to/from fraudsters\n",
        "Assign risk score (secondPartyFraudScore) to these clients"
      ]
    },
    {
      "cell_type": "markdown",
      "metadata": {
        "id": "oqPqEfOaaCuy"
      },
      "source": [
        "### 1. Graph Projection and WCC\n",
        "\n",
        "Let’s use native projection and create an in-memory graph with Client nodes and TRANSFER_TO relationships."
      ]
    },
    {
      "cell_type": "code",
      "execution_count": null,
      "metadata": {
        "id": "F72YABmyaCuy"
      },
      "outputs": [],
      "source": [
        "g, _ = gds.graph.project('SecondPartyFraudNetwork', \n",
        "    'Client',\n",
        "    'TRANSFER_TO',\n",
        "    relationshipProperties='amount'\n",
        ")"
      ]
    },
    {
      "cell_type": "markdown",
      "metadata": {
        "id": "5OS0mdXpaCuy"
      },
      "source": [
        "We will see if there are any clusters with more than one clients in them and if there are, then we should add a tag secondPartyFraudGroup to find them later using local queries.\n",
        "\n",
        "- Write results to the database"
      ]
    },
    {
      "cell_type": "code",
      "execution_count": null,
      "metadata": {
        "id": "w4PtLdz5aCuy"
      },
      "outputs": [],
      "source": [
        "gds.wcc.write(g, writeProperty='wccId2')"
      ]
    },
    {
      "cell_type": "code",
      "execution_count": null,
      "metadata": {
        "id": "ryXRGpGUaCuy"
      },
      "outputs": [],
      "source": [
        "gds.run_cypher('''\n",
        "    MATCH (c:Client)\n",
        "    WITH c.wccId2 as clusterId, collect(c.id) AS cluster\n",
        "    WITH clusterId, size(cluster) as clusterSize, cluster\n",
        "    WHERE clusterSize > 1\n",
        "    UNWIND cluster as client\n",
        "    MATCH (c:Client {id:client})\n",
        "    SET c.secondPartyFraudGroup = clusterId\n",
        "    SET c:SecondPartyFraudGroup\n",
        "''')"
      ]
    },
    {
      "cell_type": "code",
      "source": [
        "gds.run_cypher('''\n",
        "  MATCH (c:SecondPartyFraudGroup)\n",
        "  WITH c.secondPartyFraudGroup as groupId, COLLECT(DISTINCT c.name) as names\n",
        "  RETURN groupId, size(names) as groupSize, names ORDER BY groupSize DESC\n",
        "''')"
      ],
      "metadata": {
        "id": "ZG3mg8lWQLSG"
      },
      "execution_count": null,
      "outputs": []
    },
    {
      "cell_type": "markdown",
      "metadata": {
        "id": "tyNsIV8laCuy"
      },
      "source": [
        "### 2. Second-party Fraudster PageRank scores\n",
        "\n",
        "Use pagerank to find out who among the suspects have relatively higher fraud scores. Please note that relationships are weighted by the total amount transferred to fraudsters.\n",
        "\n",
        "Write results to the database\n",
        "Attach a secondPartyFraudScore tag to the clients with PageRank scores as values"
      ]
    },
    {
      "cell_type": "code",
      "execution_count": null,
      "metadata": {
        "id": "uWr1DptGaCuy"
      },
      "outputs": [],
      "source": [
        "gds.pageRank.write(g, relationshipTypes=['TRANSFER_TO'], maxIterations=1000, relationshipWeightProperty='amount',\n",
        "                   writeProperty='pageRankScore')"
      ]
    },
    {
      "cell_type": "code",
      "execution_count": null,
      "metadata": {
        "id": "mDR9TY5vaCuy"
      },
      "outputs": [],
      "source": [
        "gds.run_cypher('''\n",
        "    MATCH(c:Client)\n",
        "    RETURN c.id, c.name, c.pageRankScore\n",
        "    ORDER BY c.pageRankScore DESC LIMIT 10\n",
        "''')"
      ]
    },
    {
      "cell_type": "code",
      "execution_count": null,
      "metadata": {
        "id": "OlQfHf8zaCuz"
      },
      "outputs": [],
      "source": [
        "# clean up\n",
        "g.drop()"
      ]
    },
    {
      "cell_type": "markdown",
      "metadata": {
        "id": "IHS_dUpSaCuz"
      },
      "source": [
        "## End of Module #2\n",
        "\n",
        "In this module we accomplished the following tasks:\n",
        "\n",
        "Identified clusters of clients and first-party fraudsters transferring money between them\n",
        "Calculated second-party fraud score and identified second-party fraudsters"
      ]
    }
  ],
  "metadata": {
    "kernelspec": {
      "display_name": "DR_venv",
      "language": "python",
      "name": "dr_venv"
    },
    "language_info": {
      "codemirror_mode": {
        "name": "ipython",
        "version": 3
      },
      "file_extension": ".py",
      "mimetype": "text/x-python",
      "name": "python",
      "nbconvert_exporter": "python",
      "pygments_lexer": "ipython3",
      "version": "3.9.13"
    },
    "orig_nbformat": 4,
    "colab": {
      "provenance": [],
      "include_colab_link": true
    }
  },
  "nbformat": 4,
  "nbformat_minor": 0
}